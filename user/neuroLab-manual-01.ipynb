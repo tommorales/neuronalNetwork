{
 "cells": [
  {
   "cell_type": "markdown",
   "metadata": {},
   "source": [
    "# Pequeño manual de neuroLab para Red Neuronal supervisada unidireccional con algoritmo backpropagatión."
   ]
  },
  {
   "cell_type": "code",
   "execution_count": 72,
   "metadata": {
    "collapsed": false,
    "scrolled": true
   },
   "outputs": [],
   "source": [
    "%matplotlib inline\n",
    "import sys\n",
    "import numpy as np\n",
    "import pandas as pd\n",
    "import neurolab as nl\n",
    "\n",
    "sys.path.append(\"/Users/tmorales/tmp/redesNeuronales/neuronalNetwork/src\")\n",
    "from NeuronalNetwork import NeuronalNetwork\n",
    "from plotData import plot_dataset, plot_error"
   ]
  },
  {
   "cell_type": "markdown",
   "metadata": {},
   "source": [
    "## Tipo de Red Neuronal\n",
    "\n",
    " * Multicapa con aprendizaje supervisado unidireccional y algortihm backpropagatión.\n",
    "\n",
    "\n",
    "## Modificaciones\n",
    "\n",
    "Las modificaciones que podemos realizar a los diferentes DataSet:\n",
    "\n",
    " * A ) En la arquitectura de la red.\n",
    " \n",
    " * B ) Función de activación.\n",
    " \n",
    " * C ) Inicialización de los pesos.\n",
    " \n",
    " * D ) Entrenamiento (algoritmo de convergencia).\n",
    " \n",
    " * E ) El tipo de error que mide el buen funcionamiento de la red.\n",
    "----------------------------------------------------"
   ]
  },
  {
   "cell_type": "markdown",
   "metadata": {},
   "source": [
    "### A ) Arquitectura de la red\n",
    "\n",
    "#### Ejemplo 1:  Dos input, 1 capa de entrenamiento con 3 neuronas y 1 neurona en la capa de salida"
   ]
  },
  {
   "cell_type": "code",
   "execution_count": 105,
   "metadata": {
    "collapsed": false,
    "scrolled": true
   },
   "outputs": [
    {
     "name": "stdout",
     "output_type": "stream",
     "text": [
      "Número de capas: 2\n",
      "Weights of the layer 1: [[ 4.01308054 -2.72308365]\n",
      " [ 3.7682847   3.05287249]\n",
      " [ 4.82832837 -0.45524191]]\n",
      "Bias of the layer 2: [ 0.]\n"
     ]
    }
   ],
   "source": [
    "net = nl.net.newff([[-0.5, 0.5], [-0.5, 0.5]], [3, 1])\n",
    "net.ci \n",
    "net.co\n",
    "print \"Número de capas: {0}\".format(len(net.layers))\n",
    "print \"Weights of the layer 1: {0}\".format(net.layers[0].np['w'])\n",
    "print \"Bias of the layer 2: {0}\".format(net.layers[1].np['b'])"
   ]
  },
  {
   "cell_type": "markdown",
   "metadata": {},
   "source": [
    "#### Ejemplo 2:  Dos input, 2 capa de entrenamiento con 4 neuronas y 2 neurona en la capa de salida"
   ]
  },
  {
   "cell_type": "code",
   "execution_count": null,
   "metadata": {
    "collapsed": false,
    "scrolled": true
   },
   "outputs": [],
   "source": [
    "net = nl.net.newff([[-0.5, 0.5], [-0.5, 0.5]], [4,4,2])\n",
    "print \"Número de capas: {0}\".format(len(net.layers))"
   ]
  },
  {
   "cell_type": "markdown",
   "metadata": {},
   "source": [
    " #### Ejemplo 3:  10 input, 4 capa de entrenamiento con 20 neuronas y 10 neurona en la capa de salida"
   ]
  },
  {
   "cell_type": "code",
   "execution_count": 5,
   "metadata": {
    "collapsed": false,
    "scrolled": true
   },
   "outputs": [],
   "source": [
    "inputL = [[-0.5, 0.5] for i in range(10)]\n",
    "hiddenL = [20 for i in range(4)]\n",
    "outputL = [10]\n",
    "hiddenOutputL = hiddenL+outputL"
   ]
  },
  {
   "cell_type": "code",
   "execution_count": 4,
   "metadata": {
    "collapsed": false,
    "scrolled": true
   },
   "outputs": [
    {
     "name": "stdout",
     "output_type": "stream",
     "text": [
      "Número de capas: 5\n"
     ]
    }
   ],
   "source": [
    "net = nl.net.newff(inputL, hiddenOutputL)\n",
    "print \"Número de capas: {0}\".format(len(net.layers))"
   ]
  },
  {
   "cell_type": "markdown",
   "metadata": {
    "collapsed": false,
    "scrolled": true
   },
   "source": [
    "En todos los ejemplos anteriores la función de activación era **TanSig** que es la de defecto. Para seleccionar la función de activación para cada una de las capas."
   ]
  },
  {
   "cell_type": "markdown",
   "metadata": {},
   "source": [
    "## B) Función de activación  \n",
    "\n",
    "#### Ejemplo 4:  10 input, 4 capa de entrenamiento con 20 neuronas y 10 neurona en la capa de salida. Función de activación **logSig** para todas las capas."
   ]
  },
  {
   "cell_type": "code",
   "execution_count": 24,
   "metadata": {
    "collapsed": true,
    "scrolled": true
   },
   "outputs": [],
   "source": [
    "inputL = [[-0.5, 0.5] for i in range(10)]\n",
    "hiddenL = [20 for i in range(4)]\n",
    "outputL = [10]\n",
    "hiddenOutputL = hiddenL+outputL\n",
    "activationFunction = [nl.trans.LogSig for i in range(5)]"
   ]
  },
  {
   "cell_type": "code",
   "execution_count": 25,
   "metadata": {
    "collapsed": false
   },
   "outputs": [],
   "source": [
    "net = nl.net.newff(inputL, hiddenOutputL, activationFunction)"
   ]
  },
  {
   "cell_type": "markdown",
   "metadata": {},
   "source": [
    "### Ejemplo 4: 10 input, 4 capa de entrenamiento con 20 neuronas y 10 neurona en la capa de salida. Función de activación **logSig** para todas las capas de entrenamiento y **TanSig** para la capa output."
   ]
  },
  {
   "cell_type": "code",
   "execution_count": 26,
   "metadata": {
    "collapsed": true
   },
   "outputs": [],
   "source": [
    "inputL = [[-0.5, 0.5] for i in range(10)]\n",
    "hiddenL = [20 for i in range(4)]\n",
    "outputL = [10]\n",
    "hiddenOutputL = hiddenL+outputL\n",
    "activationFunction = [nl.trans.LogSig for i in range(4)] + [nl.trans.TanSig]"
   ]
  },
  {
   "cell_type": "code",
   "execution_count": 27,
   "metadata": {
    "collapsed": true
   },
   "outputs": [],
   "source": [
    "net = nl.net.newff(inputL, hiddenOutputL, activationFunction)"
   ]
  },
  {
   "cell_type": "markdown",
   "metadata": {},
   "source": [
    "## D) Entrenamiento de la red\n",
    "\n",
    "Entrenamiento de la red supervisado utilizando el algoritmo *\"backpropagation\"*. Según la documentación del código las posibilidades son las [siguientes](https://pythonhosted.org/neurolab/lib.html).\n",
    "\n",
    "train_gd, train_gdm, train_gda, train_gdx, train_rprop, train_bfgs*, train_cg\n",
    "\n",
    "### Ejemplo 5:  Dos input, 2 capas de entrenamiento con 4 neuronas y 2 neuronas en la capa de salida. El conjunto de datos de entrenamiento es el siguiente."
   ]
  },
  {
   "cell_type": "code",
   "execution_count": 43,
   "metadata": {
    "collapsed": false
   },
   "outputs": [],
   "source": [
    "# Create train samples\n",
    "x = np.linspace(-7, 7, 20)\n",
    "y = np.sin(x) * 0.5 \n",
    "\n",
    "size = len(x)\n",
    "input = x.reshape(size,1)\n",
    "target = y.reshape(size,1)"
   ]
  },
  {
   "cell_type": "code",
   "execution_count": 53,
   "metadata": {
    "collapsed": false
   },
   "outputs": [],
   "source": [
    "# Create network with 2 layers and random initialized\n",
    "net = nl.net.newff([[-7,7]],[7,1]) \n",
    "# Train network\n",
    "net.trainf = nl.train.train_gd          # Gradient descent backpropogation"
   ]
  },
  {
   "cell_type": "code",
   "execution_count": 54,
   "metadata": {
    "collapsed": false
   },
   "outputs": [],
   "source": [
    "# Create network with 5 layers and random initialized\n",
    "net = nl.net.newff([[-7,7]],[7,1]) \n",
    "# Train network\n",
    "net.trainf = nl.train.train_gdm          # Gradient descent with momentum backpropagation"
   ]
  },
  {
   "cell_type": "markdown",
   "metadata": {},
   "source": [
    "### E ) El tipo de error que mide el buen funcionamiento de la red."
   ]
  },
  {
   "cell_type": "markdown",
   "metadata": {},
   "source": [
    "### Ejemplo 6:\n",
    "\n",
    "**CCE (Cross-entropy error function)**: "
   ]
  },
  {
   "cell_type": "code",
   "execution_count": 86,
   "metadata": {
    "collapsed": false
   },
   "outputs": [
    {
     "name": "stdout",
     "output_type": "stream",
     "text": [
      "Epoch: 500; Error: 17.3546634292;\n",
      "The maximum number of train epochs is reached\n"
     ]
    }
   ],
   "source": [
    "# Create network with 5 layers and random initialized\n",
    "net = nl.net.newff([[-7,7]],[7,1]) \n",
    "# Train network\n",
    "net.trainf = nl.train.train_gdm  # Gradient descent with momentum backpropagation\n",
    "net.errorf = nl.error.CEE()\n",
    "err_CCE = net.train(input, target, show=500, adapt=True)     # SSE (Sum Square Error function) - Default error -"
   ]
  },
  {
   "cell_type": "markdown",
   "metadata": {},
   "source": [
    "**MAE (Mean absolute error function)**"
   ]
  },
  {
   "cell_type": "code",
   "execution_count": 82,
   "metadata": {
    "collapsed": false
   },
   "outputs": [
    {
     "name": "stdout",
     "output_type": "stream",
     "text": [
      "Epoch: 500; Error: 0.113654772423;\n",
      "The maximum number of train epochs is reached\n"
     ]
    }
   ],
   "source": [
    "# Create network with 5 layers and random initialized\n",
    "net = nl.net.newff([[-7,7]],[7,1]) \n",
    "# Train network\n",
    "net.trainf = nl.train.train_gdm                         # Gradient descent with momentum backpropagation\n",
    "net.errorf = nl.error.MAE()                             # MAE (Mean absolute Error function)\n",
    "err_MAE = net.train(input, target, show=500, adapt=True)      "
   ]
  },
  {
   "cell_type": "markdown",
   "metadata": {},
   "source": [
    "**MSE (Mean Squared error function)**"
   ]
  },
  {
   "cell_type": "code",
   "execution_count": 83,
   "metadata": {
    "collapsed": false
   },
   "outputs": [
    {
     "name": "stdout",
     "output_type": "stream",
     "text": [
      "The goal of learning is reached\n"
     ]
    }
   ],
   "source": [
    "# Create network with 5 layers and random initialized\n",
    "net = nl.net.newff([[-7,7]],[7,1]) \n",
    "# Train network\n",
    "net.trainf = nl.train.train_gdm                         # Gradient descent with momentum backpropagation\n",
    "net.errorf = nl.error.MSE()                             # MSE (Mean Squared error function)\n",
    "err_MSE = net.train(input, target, show=500, adapt=True)      "
   ]
  },
  {
   "cell_type": "markdown",
   "metadata": {},
   "source": [
    "**SAE (Sum Absolute Error function)**"
   ]
  },
  {
   "cell_type": "code",
   "execution_count": 84,
   "metadata": {
    "collapsed": false
   },
   "outputs": [
    {
     "name": "stdout",
     "output_type": "stream",
     "text": [
      "Epoch: 500; Error: 2.07531247551;\n",
      "The maximum number of train epochs is reached\n"
     ]
    }
   ],
   "source": [
    "# Create network with 5 layers and random initialized\n",
    "net = nl.net.newff([[-7,7]],[7,1]) \n",
    "# Train network\n",
    "net.trainf = nl.train.train_gdm                         # Gradient descent with momentum backpropagation\n",
    "net.errorf = nl.error.SAE()                             # SAE (Sum Absolute Error function) \n",
    "err_SAE = net.train(input, target, show=500, adapt=True)      "
   ]
  },
  {
   "cell_type": "markdown",
   "metadata": {},
   "source": [
    "**SSE (Sum Square error function)**"
   ]
  },
  {
   "cell_type": "code",
   "execution_count": 85,
   "metadata": {
    "collapsed": false
   },
   "outputs": [
    {
     "name": "stdout",
     "output_type": "stream",
     "text": [
      "Epoch: 500; Error: 0.0121628043451;\n",
      "The maximum number of train epochs is reached\n"
     ]
    }
   ],
   "source": [
    "# Create network with 5 layers and random initialized\n",
    "net = nl.net.newff([[-7,7]],[7,1]) \n",
    "# Train network\n",
    "net.trainf = nl.train.train_gdm                          # Gradient descent with momentum backpropagation\n",
    "err_SSE = net.train(input, target, show=500, adapt=True)     # SSE (Sum Square Error function) - Default error -"
   ]
  },
  {
   "cell_type": "markdown",
   "metadata": {},
   "source": [
    "**El error queda almacenado en un array de numpy, habrá tantos errores como ciclos hayas seleccionado (por defecto 500).**"
   ]
  },
  {
   "cell_type": "code",
   "execution_count": 88,
   "metadata": {
    "collapsed": false
   },
   "outputs": [
    {
     "name": "stdout",
     "output_type": "stream",
     "text": [
      "500\n",
      "500\n",
      "38\n",
      "500\n",
      "500\n"
     ]
    }
   ],
   "source": [
    "print len(err_CCE); print len(err_MAE); print len(err_MSE); print len(err_SAE); print len(err_SSE)"
   ]
  },
  {
   "cell_type": "code",
   "execution_count": 89,
   "metadata": {
    "collapsed": false
   },
   "outputs": [
    {
     "data": {
      "text/plain": [
       "<matplotlib.axes._subplots.AxesSubplot at 0x107613b50>"
      ]
     },
     "execution_count": 89,
     "metadata": {},
     "output_type": "execute_result"
    },
    {
     "data": {
      "image/png": "[encoded data removed]",
      "text/plain": [
       "<matplotlib.figure.Figure at 0x107613690>"
      ]
     },
     "metadata": {},
     "output_type": "display_data"
    }
   ],
   "source": [
    "pd.DataFrame({\"CCE\": err_CCE,\n",
    "              \"MAE\": err_MAE,\n",
    "              \"SAE\": err_SAE,\n",
    "              \"SSE\": err_SSE}).plot()"
   ]
  },
  {
   "cell_type": "code",
   "execution_count": 90,
   "metadata": {
    "collapsed": false
   },
   "outputs": [
    {
     "data": {
      "text/plain": [
       "<matplotlib.axes._subplots.AxesSubplot at 0x107aaac90>"
      ]
     },
     "execution_count": 90,
     "metadata": {},
     "output_type": "execute_result"
    },
    {
     "data": {
      "image/png": "[encoded data removed]",
      "text/plain": [
       "<matplotlib.figure.Figure at 0x107b64f50>"
      ]
     },
     "metadata": {},
     "output_type": "display_data"
    }
   ],
   "source": [
    "pd.DataFrame({\"MSE\": err_MSE}).plot()"
   ]
  },
  {
   "cell_type": "code",
   "execution_count": null,
   "metadata": {
    "collapsed": true
   },
   "outputs": [],
   "source": []
  }
 ],
 "metadata": {
  "kernelspec": {
   "display_name": "Python 2",
   "language": "python",
   "name": "python2"
  },
  "language_info": {
   "codemirror_mode": {
    "name": "ipython",
    "version": 2
   },
   "file_extension": ".py",
   "mimetype": "text/x-python",
   "name": "python",
   "nbconvert_exporter": "python",
   "pygments_lexer": "ipython2",
   "version": "2.7.10"
  }
 },
 "nbformat": 4,
 "nbformat_minor": 0
}
