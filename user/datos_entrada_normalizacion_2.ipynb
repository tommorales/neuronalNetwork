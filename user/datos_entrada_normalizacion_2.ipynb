{
 "cells": [
  {
   "cell_type": "markdown",
   "metadata": {},
   "source": [
    "# Relación datos de input y output"
   ]
  },
  {
   "cell_type": "code",
   "execution_count": 17,
   "metadata": {
    "collapsed": true
   },
   "outputs": [],
   "source": [
    "%matplotlib inline\n",
    "import numpy as np\n",
    "import pandas as pd\n",
    "import neurolab as nl\n",
    "import matplotlib.pyplot as plt"
   ]
  },
  {
   "cell_type": "code",
   "execution_count": 6,
   "metadata": {
    "collapsed": false
   },
   "outputs": [
    {
     "name": "stdout",
     "output_type": "stream",
     "text": [
      "Número de datos de entrenamiento y features: (1000, 225)\n",
      "Número de datos de salida: (1000, 10)\n"
     ]
    }
   ],
   "source": [
    "input = np.random.uniform(0, .1, (1000, 225))\n",
    "print \"Número de datos de entrenamiento y features: {}\".format(input.shape)\n",
    "output = input[:,:10]+input[:,10:20]\n",
    "print \"Número de datos de salida: {}\".format(output.shape)"
   ]
  },
  {
   "cell_type": "markdown",
   "metadata": {},
   "source": [
    "### Input"
   ]
  },
  {
   "cell_type": "code",
   "execution_count": 8,
   "metadata": {
    "collapsed": false
   },
   "outputs": [
    {
     "data": {
      "text/html": [
       "<div>\n",
       "<table border=\"1\" class=\"dataframe\">\n",
       "  <thead>\n",
       "    <tr style=\"text-align: right;\">\n",
       "      <th></th>\n",
       "      <th>0</th>\n",
       "      <th>1</th>\n",
       "      <th>2</th>\n",
       "      <th>3</th>\n",
       "      <th>4</th>\n",
       "      <th>5</th>\n",
       "      <th>6</th>\n",
       "      <th>7</th>\n",
       "      <th>8</th>\n",
       "      <th>9</th>\n",
       "      <th>...</th>\n",
       "      <th>215</th>\n",
       "      <th>216</th>\n",
       "      <th>217</th>\n",
       "      <th>218</th>\n",
       "      <th>219</th>\n",
       "      <th>220</th>\n",
       "      <th>221</th>\n",
       "      <th>222</th>\n",
       "      <th>223</th>\n",
       "      <th>224</th>\n",
       "    </tr>\n",
       "  </thead>\n",
       "  <tbody>\n",
       "    <tr>\n",
       "      <th>0</th>\n",
       "      <td>0.058879</td>\n",
       "      <td>0.056076</td>\n",
       "      <td>0.099481</td>\n",
       "      <td>0.085538</td>\n",
       "      <td>0.044324</td>\n",
       "      <td>0.076951</td>\n",
       "      <td>0.041889</td>\n",
       "      <td>0.010688</td>\n",
       "      <td>0.055808</td>\n",
       "      <td>0.041472</td>\n",
       "      <td>...</td>\n",
       "      <td>0.056323</td>\n",
       "      <td>0.008684</td>\n",
       "      <td>0.018193</td>\n",
       "      <td>0.075620</td>\n",
       "      <td>0.082810</td>\n",
       "      <td>0.094569</td>\n",
       "      <td>0.081153</td>\n",
       "      <td>0.039027</td>\n",
       "      <td>0.039229</td>\n",
       "      <td>0.036473</td>\n",
       "    </tr>\n",
       "    <tr>\n",
       "      <th>1</th>\n",
       "      <td>0.062595</td>\n",
       "      <td>0.014640</td>\n",
       "      <td>0.062053</td>\n",
       "      <td>0.086559</td>\n",
       "      <td>0.041348</td>\n",
       "      <td>0.011041</td>\n",
       "      <td>0.048369</td>\n",
       "      <td>0.003224</td>\n",
       "      <td>0.037631</td>\n",
       "      <td>0.091921</td>\n",
       "      <td>...</td>\n",
       "      <td>0.049882</td>\n",
       "      <td>0.025306</td>\n",
       "      <td>0.048385</td>\n",
       "      <td>0.057695</td>\n",
       "      <td>0.061098</td>\n",
       "      <td>0.011224</td>\n",
       "      <td>0.075957</td>\n",
       "      <td>0.064236</td>\n",
       "      <td>0.000674</td>\n",
       "      <td>0.014483</td>\n",
       "    </tr>\n",
       "    <tr>\n",
       "      <th>2</th>\n",
       "      <td>0.031591</td>\n",
       "      <td>0.016201</td>\n",
       "      <td>0.007461</td>\n",
       "      <td>0.056658</td>\n",
       "      <td>0.066799</td>\n",
       "      <td>0.089360</td>\n",
       "      <td>0.073591</td>\n",
       "      <td>0.036381</td>\n",
       "      <td>0.066059</td>\n",
       "      <td>0.075404</td>\n",
       "      <td>...</td>\n",
       "      <td>0.030149</td>\n",
       "      <td>0.013407</td>\n",
       "      <td>0.083076</td>\n",
       "      <td>0.034860</td>\n",
       "      <td>0.070270</td>\n",
       "      <td>0.064215</td>\n",
       "      <td>0.089372</td>\n",
       "      <td>0.072022</td>\n",
       "      <td>0.051358</td>\n",
       "      <td>0.099426</td>\n",
       "    </tr>\n",
       "    <tr>\n",
       "      <th>3</th>\n",
       "      <td>0.055972</td>\n",
       "      <td>0.059450</td>\n",
       "      <td>0.085238</td>\n",
       "      <td>0.023351</td>\n",
       "      <td>0.017315</td>\n",
       "      <td>0.015521</td>\n",
       "      <td>0.021866</td>\n",
       "      <td>0.095870</td>\n",
       "      <td>0.065630</td>\n",
       "      <td>0.038592</td>\n",
       "      <td>...</td>\n",
       "      <td>0.046641</td>\n",
       "      <td>0.024807</td>\n",
       "      <td>0.021725</td>\n",
       "      <td>0.050059</td>\n",
       "      <td>0.097980</td>\n",
       "      <td>0.062952</td>\n",
       "      <td>0.049635</td>\n",
       "      <td>0.084934</td>\n",
       "      <td>0.005697</td>\n",
       "      <td>0.045506</td>\n",
       "    </tr>\n",
       "    <tr>\n",
       "      <th>4</th>\n",
       "      <td>0.039211</td>\n",
       "      <td>0.013686</td>\n",
       "      <td>0.046084</td>\n",
       "      <td>0.063740</td>\n",
       "      <td>0.017878</td>\n",
       "      <td>0.076810</td>\n",
       "      <td>0.038807</td>\n",
       "      <td>0.036912</td>\n",
       "      <td>0.003572</td>\n",
       "      <td>0.062987</td>\n",
       "      <td>...</td>\n",
       "      <td>0.052517</td>\n",
       "      <td>0.070138</td>\n",
       "      <td>0.063037</td>\n",
       "      <td>0.079083</td>\n",
       "      <td>0.084253</td>\n",
       "      <td>0.084064</td>\n",
       "      <td>0.096507</td>\n",
       "      <td>0.035452</td>\n",
       "      <td>0.050576</td>\n",
       "      <td>0.081462</td>\n",
       "    </tr>\n",
       "  </tbody>\n",
       "</table>\n",
       "<p>5 rows × 225 columns</p>\n",
       "</div>"
      ],
      "text/plain": [
       "        0         1         2         3         4         5         6    \\\n",
       "0  0.058879  0.056076  0.099481  0.085538  0.044324  0.076951  0.041889   \n",
       "1  0.062595  0.014640  0.062053  0.086559  0.041348  0.011041  0.048369   \n",
       "2  0.031591  0.016201  0.007461  0.056658  0.066799  0.089360  0.073591   \n",
       "3  0.055972  0.059450  0.085238  0.023351  0.017315  0.015521  0.021866   \n",
       "4  0.039211  0.013686  0.046084  0.063740  0.017878  0.076810  0.038807   \n",
       "\n",
       "        7         8         9      ...          215       216       217  \\\n",
       "0  0.010688  0.055808  0.041472    ...     0.056323  0.008684  0.018193   \n",
       "1  0.003224  0.037631  0.091921    ...     0.049882  0.025306  0.048385   \n",
       "2  0.036381  0.066059  0.075404    ...     0.030149  0.013407  0.083076   \n",
       "3  0.095870  0.065630  0.038592    ...     0.046641  0.024807  0.021725   \n",
       "4  0.036912  0.003572  0.062987    ...     0.052517  0.070138  0.063037   \n",
       "\n",
       "        218       219       220       221       222       223       224  \n",
       "0  0.075620  0.082810  0.094569  0.081153  0.039027  0.039229  0.036473  \n",
       "1  0.057695  0.061098  0.011224  0.075957  0.064236  0.000674  0.014483  \n",
       "2  0.034860  0.070270  0.064215  0.089372  0.072022  0.051358  0.099426  \n",
       "3  0.050059  0.097980  0.062952  0.049635  0.084934  0.005697  0.045506  \n",
       "4  0.079083  0.084253  0.084064  0.096507  0.035452  0.050576  0.081462  \n",
       "\n",
       "[5 rows x 225 columns]"
      ]
     },
     "execution_count": 8,
     "metadata": {},
     "output_type": "execute_result"
    }
   ],
   "source": [
    "pd.DataFrame(input).head()"
   ]
  },
  {
   "cell_type": "markdown",
   "metadata": {},
   "source": [
    "### Output"
   ]
  },
  {
   "cell_type": "code",
   "execution_count": 9,
   "metadata": {
    "collapsed": false
   },
   "outputs": [
    {
     "data": {
      "text/html": [
       "<div>\n",
       "<table border=\"1\" class=\"dataframe\">\n",
       "  <thead>\n",
       "    <tr style=\"text-align: right;\">\n",
       "      <th></th>\n",
       "      <th>0</th>\n",
       "      <th>1</th>\n",
       "      <th>2</th>\n",
       "      <th>3</th>\n",
       "      <th>4</th>\n",
       "      <th>5</th>\n",
       "      <th>6</th>\n",
       "      <th>7</th>\n",
       "      <th>8</th>\n",
       "      <th>9</th>\n",
       "    </tr>\n",
       "  </thead>\n",
       "  <tbody>\n",
       "    <tr>\n",
       "      <th>0</th>\n",
       "      <td>0.064533</td>\n",
       "      <td>0.141637</td>\n",
       "      <td>0.142932</td>\n",
       "      <td>0.094857</td>\n",
       "      <td>0.141273</td>\n",
       "      <td>0.132003</td>\n",
       "      <td>0.117122</td>\n",
       "      <td>0.016498</td>\n",
       "      <td>0.062529</td>\n",
       "      <td>0.055839</td>\n",
       "    </tr>\n",
       "    <tr>\n",
       "      <th>1</th>\n",
       "      <td>0.082496</td>\n",
       "      <td>0.023257</td>\n",
       "      <td>0.090670</td>\n",
       "      <td>0.159123</td>\n",
       "      <td>0.111897</td>\n",
       "      <td>0.050856</td>\n",
       "      <td>0.060360</td>\n",
       "      <td>0.054873</td>\n",
       "      <td>0.044286</td>\n",
       "      <td>0.128928</td>\n",
       "    </tr>\n",
       "    <tr>\n",
       "      <th>2</th>\n",
       "      <td>0.070326</td>\n",
       "      <td>0.067507</td>\n",
       "      <td>0.106305</td>\n",
       "      <td>0.070094</td>\n",
       "      <td>0.067839</td>\n",
       "      <td>0.146696</td>\n",
       "      <td>0.167748</td>\n",
       "      <td>0.115382</td>\n",
       "      <td>0.087921</td>\n",
       "      <td>0.139853</td>\n",
       "    </tr>\n",
       "    <tr>\n",
       "      <th>3</th>\n",
       "      <td>0.077384</td>\n",
       "      <td>0.137590</td>\n",
       "      <td>0.172370</td>\n",
       "      <td>0.101892</td>\n",
       "      <td>0.032521</td>\n",
       "      <td>0.085376</td>\n",
       "      <td>0.081179</td>\n",
       "      <td>0.183967</td>\n",
       "      <td>0.144679</td>\n",
       "      <td>0.132807</td>\n",
       "    </tr>\n",
       "    <tr>\n",
       "      <th>4</th>\n",
       "      <td>0.117602</td>\n",
       "      <td>0.093172</td>\n",
       "      <td>0.140839</td>\n",
       "      <td>0.107955</td>\n",
       "      <td>0.114135</td>\n",
       "      <td>0.159545</td>\n",
       "      <td>0.099468</td>\n",
       "      <td>0.096213</td>\n",
       "      <td>0.051689</td>\n",
       "      <td>0.125211</td>\n",
       "    </tr>\n",
       "  </tbody>\n",
       "</table>\n",
       "</div>"
      ],
      "text/plain": [
       "          0         1         2         3         4         5         6  \\\n",
       "0  0.064533  0.141637  0.142932  0.094857  0.141273  0.132003  0.117122   \n",
       "1  0.082496  0.023257  0.090670  0.159123  0.111897  0.050856  0.060360   \n",
       "2  0.070326  0.067507  0.106305  0.070094  0.067839  0.146696  0.167748   \n",
       "3  0.077384  0.137590  0.172370  0.101892  0.032521  0.085376  0.081179   \n",
       "4  0.117602  0.093172  0.140839  0.107955  0.114135  0.159545  0.099468   \n",
       "\n",
       "          7         8         9  \n",
       "0  0.016498  0.062529  0.055839  \n",
       "1  0.054873  0.044286  0.128928  \n",
       "2  0.115382  0.087921  0.139853  \n",
       "3  0.183967  0.144679  0.132807  \n",
       "4  0.096213  0.051689  0.125211  "
      ]
     },
     "execution_count": 9,
     "metadata": {},
     "output_type": "execute_result"
    }
   ],
   "source": [
    "pd.DataFrame(output).head()"
   ]
  },
  {
   "cell_type": "markdown",
   "metadata": {},
   "source": [
    "# Red Neuronal\n",
    "## A) \n",
    "        * Número de inputs: 225 comprendidos entre [0, 0.1]\n",
    "        * 1 capa de entrenamiento con 50 neuronas\n",
    "        * Número de neuronas en la capa output: 10\n",
    "        \n",
    "**net = nl.net.newff([[0, .1]]*225, [50, 10])**\n",
    "\n",
    "Por cuestiones computacionales disminuyo el número de features a 10 y el de outputs a 2        "
   ]
  },
  {
   "cell_type": "code",
   "execution_count": 16,
   "metadata": {
    "collapsed": false
   },
   "outputs": [
    {
     "name": "stdout",
     "output_type": "stream",
     "text": [
      "Epoch: 10; Error: 8.26573247485;\n",
      "Epoch: 20; Error: 1.49372268272;\n",
      "Epoch: 30; Error: 1.42102732752;\n",
      "Epoch: 40; Error: 1.38965046546;\n",
      "Epoch: 50; Error: 1.29556739287;\n",
      "Epoch: 60; Error: 1.17522286207;\n",
      "Epoch: 70; Error: 1.09868636688;\n",
      "Epoch: 80; Error: 1.05996195876;\n",
      "Epoch: 90; Error: 1.03986866165;\n",
      "Epoch: 100; Error: 1.0248403171;\n",
      "The maximum number of train epochs is reached\n"
     ]
    }
   ],
   "source": [
    "net = nl.net.newff([[0, .1]]*10, [50, 2])           # Arquitectura de la red\n",
    "net.trainf = nl.train.train_bfgs                    # Algoritmo de optimización\n",
    "error = net.train(input[:,0:10], output[:,0:2], show=10, epochs=100, goal=0.0001)"
   ]
  },
  {
   "cell_type": "code",
   "execution_count": 18,
   "metadata": {
    "collapsed": false
   },
   "outputs": [
    {
     "data": {
      "text/plain": [
       "[<matplotlib.lines.Line2D at 0x10a6bd3d0>]"
      ]
     },
     "execution_count": 18,
     "metadata": {},
     "output_type": "execute_result"
    },
    {
     "data": {
      "image/png": "[encoded data removed]",
      "text/plain": [
       "<matplotlib.figure.Figure at 0x10a628290>"
      ]
     },
     "metadata": {},
     "output_type": "display_data"
    }
   ],
   "source": [
    "plt.figure(figsize=((15,5)))\n",
    "plt.plot(range(len(error)), error)"
   ]
  },
  {
   "cell_type": "markdown",
   "metadata": {},
   "source": [
    "# B ) \n",
    "        * Número de inputs: 225 comprendidos entre [0, 0.1]\n",
    "        * 2 capa de entrenamiento con 50 y 40 neuronas respectivamente.\n",
    "        * Número de neuronas en la capa output: 10\n",
    "        \n",
    "**net = nl.net.newff([[0, .1]]*225, [50, 40, 10])**\n",
    "\n",
    "Por cuestiones computacionales disminuyo el número de features a 10 y el de outputs a 2      "
   ]
  },
  {
   "cell_type": "code",
   "execution_count": 20,
   "metadata": {
    "collapsed": false
   },
   "outputs": [
    {
     "name": "stdout",
     "output_type": "stream",
     "text": [
      "Epoch: 10; Error: 605.783451166;\n",
      "Epoch: 20; Error: 605.73414938;\n",
      "Epoch: 30; Error: 605.719153301;\n",
      "Epoch: 40; Error: 605.709582168;\n",
      "Epoch: 50; Error: 605.696859708;\n",
      "Epoch: 60; Error: 605.678793832;\n",
      "Epoch: 70; Error: 605.654847525;\n",
      "Epoch: 80; Error: 605.62388086;\n",
      "Epoch: 90; Error: 605.595065103;\n",
      "Epoch: 100; Error: 605.56681016;\n",
      "The maximum number of train epochs is reached\n"
     ]
    }
   ],
   "source": [
    "net = nl.net.newff([[0, .1]]*10, [50, 40, 2])           # Arquitectura de la red\n",
    "net.trainf = nl.train.train_bfgs                        # Algoritmo de optimización\n",
    "error = net.train(input[:,0:10], output[:,0:2], show=10, epochs=100, goal=0.0001)"
   ]
  },
  {
   "cell_type": "code",
   "execution_count": 21,
   "metadata": {
    "collapsed": false
   },
   "outputs": [
    {
     "data": {
      "text/plain": [
       "[<matplotlib.lines.Line2D at 0x1029c6390>]"
      ]
     },
     "execution_count": 21,
     "metadata": {},
     "output_type": "execute_result"
    },
    {
     "data": {
      "image/png": "[encoded data removed]",
      "text/plain": [
       "<matplotlib.figure.Figure at 0x10a710890>"
      ]
     },
     "metadata": {},
     "output_type": "display_data"
    }
   ],
   "source": [
    "plt.figure(figsize=((15,5)))\n",
    "plt.plot(range(len(error)), error)"
   ]
  },
  {
   "cell_type": "code",
   "execution_count": null,
   "metadata": {
    "collapsed": true
   },
   "outputs": [],
   "source": []
  }
 ],
 "metadata": {
  "kernelspec": {
   "display_name": "Python 2",
   "language": "python",
   "name": "python2"
  },
  "language_info": {
   "codemirror_mode": {
    "name": "ipython",
    "version": 2
   },
   "file_extension": ".py",
   "mimetype": "text/x-python",
   "name": "python",
   "nbconvert_exporter": "python",
   "pygments_lexer": "ipython2",
   "version": "2.7.10"
  }
 },
 "nbformat": 4,
 "nbformat_minor": 0
}
